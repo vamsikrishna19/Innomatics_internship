{
 "cells": [
  {
   "cell_type": "code",
   "execution_count": 30,
   "metadata": {},
   "outputs": [
    {
     "name": "stderr",
     "output_type": "stream",
     "text": [
      "C:\\Users\\welcome\\Anaconda3\\lib\\site-packages\\statsmodels\\tools\\_testing.py:19: FutureWarning: pandas.util.testing is deprecated. Use the functions in the public API at pandas.testing instead.\n",
      "  import pandas.util.testing as tm\n"
     ]
    }
   ],
   "source": [
    "import pandas as pd\n",
    "import numpy as np\n",
    "import math\n",
    "import matplotlib as plt\n",
    "import seaborn as sns"
   ]
  },
  {
   "cell_type": "code",
   "execution_count": 4,
   "metadata": {},
   "outputs": [
    {
     "data": {
      "text/html": [
       "<div>\n",
       "<style scoped>\n",
       "    .dataframe tbody tr th:only-of-type {\n",
       "        vertical-align: middle;\n",
       "    }\n",
       "\n",
       "    .dataframe tbody tr th {\n",
       "        vertical-align: top;\n",
       "    }\n",
       "\n",
       "    .dataframe thead th {\n",
       "        text-align: right;\n",
       "    }\n",
       "</style>\n",
       "<table border=\"1\" class=\"dataframe\">\n",
       "  <thead>\n",
       "    <tr style=\"text-align: right;\">\n",
       "      <th></th>\n",
       "      <th>Mthly_HH_Income</th>\n",
       "      <th>Mthly_HH_Expense</th>\n",
       "      <th>No_of_Fly_Members</th>\n",
       "      <th>Emi_or_Rent_Amt</th>\n",
       "      <th>Annual_HH_Income</th>\n",
       "      <th>Highest_Qualified_Member</th>\n",
       "      <th>No_of_Earning_Members</th>\n",
       "    </tr>\n",
       "  </thead>\n",
       "  <tbody>\n",
       "    <tr>\n",
       "      <th>0</th>\n",
       "      <td>5000</td>\n",
       "      <td>8000</td>\n",
       "      <td>3</td>\n",
       "      <td>2000</td>\n",
       "      <td>64200</td>\n",
       "      <td>Under-Graduate</td>\n",
       "      <td>1</td>\n",
       "    </tr>\n",
       "    <tr>\n",
       "      <th>1</th>\n",
       "      <td>6000</td>\n",
       "      <td>7000</td>\n",
       "      <td>2</td>\n",
       "      <td>3000</td>\n",
       "      <td>79920</td>\n",
       "      <td>Illiterate</td>\n",
       "      <td>1</td>\n",
       "    </tr>\n",
       "    <tr>\n",
       "      <th>2</th>\n",
       "      <td>10000</td>\n",
       "      <td>4500</td>\n",
       "      <td>2</td>\n",
       "      <td>0</td>\n",
       "      <td>112800</td>\n",
       "      <td>Under-Graduate</td>\n",
       "      <td>1</td>\n",
       "    </tr>\n",
       "    <tr>\n",
       "      <th>3</th>\n",
       "      <td>10000</td>\n",
       "      <td>2000</td>\n",
       "      <td>1</td>\n",
       "      <td>0</td>\n",
       "      <td>97200</td>\n",
       "      <td>Illiterate</td>\n",
       "      <td>1</td>\n",
       "    </tr>\n",
       "    <tr>\n",
       "      <th>4</th>\n",
       "      <td>12500</td>\n",
       "      <td>12000</td>\n",
       "      <td>2</td>\n",
       "      <td>3000</td>\n",
       "      <td>147000</td>\n",
       "      <td>Graduate</td>\n",
       "      <td>1</td>\n",
       "    </tr>\n",
       "  </tbody>\n",
       "</table>\n",
       "</div>"
      ],
      "text/plain": [
       "   Mthly_HH_Income  Mthly_HH_Expense  No_of_Fly_Members  Emi_or_Rent_Amt  \\\n",
       "0             5000              8000                  3             2000   \n",
       "1             6000              7000                  2             3000   \n",
       "2            10000              4500                  2                0   \n",
       "3            10000              2000                  1                0   \n",
       "4            12500             12000                  2             3000   \n",
       "\n",
       "   Annual_HH_Income Highest_Qualified_Member  No_of_Earning_Members  \n",
       "0             64200           Under-Graduate                      1  \n",
       "1             79920               Illiterate                      1  \n",
       "2            112800           Under-Graduate                      1  \n",
       "3             97200               Illiterate                      1  \n",
       "4            147000                 Graduate                      1  "
      ]
     },
     "execution_count": 4,
     "metadata": {},
     "output_type": "execute_result"
    }
   ],
   "source": [
    "df = pd.read_csv(\"H:\\data_inn.csv\")\n",
    "df.head()"
   ]
  },
  {
   "cell_type": "markdown",
   "metadata": {},
   "source": [
    "# Descriptive Statistics and Python Implementation"
   ]
  },
  {
   "cell_type": "markdown",
   "metadata": {},
   "source": [
    "## Mean:"
   ]
  },
  {
   "cell_type": "markdown",
   "metadata": {},
   "source": [
    "\n",
    "It is the sum of observations divided by total number of observations. Usually represented by m and given as\n",
    "- $  \\mu = \\frac{\\Sigma x_{i}} {n} $\n",
    "               \n"
   ]
  },
  {
   "cell_type": "markdown",
   "metadata": {},
   "source": [
    "### Example \n",
    "\n",
    "mean of [4,5,9,6,] is given as\n",
    "$ m = (4+5+9+6)/4 = 24/4 = 6 $\n"
   ]
  },
  {
   "cell_type": "markdown",
   "metadata": {},
   "source": [
    "#### Python Implementation"
   ]
  },
  {
   "cell_type": "code",
   "execution_count": 12,
   "metadata": {},
   "outputs": [
    {
     "name": "stdout",
     "output_type": "stream",
     "text": [
      "4.06\n"
     ]
    }
   ],
   "source": [
    "sum = 0\n",
    "for i in range(len(df['No_of_Fly_Members'])):\n",
    "    sum =sum + df['No_of_Fly_Members'][i]\n",
    "n =len(df['No_of_Fly_Members'])\n",
    "mean = sum/n\n",
    "print(mean)"
   ]
  },
  {
   "cell_type": "markdown",
   "metadata": {},
   "source": [
    "## Median:"
   ]
  },
  {
   "cell_type": "markdown",
   "metadata": {},
   "source": [
    "It is the number at $(n+1)/2^{th}$ position in the ordered list. Where n is the number of observations. It is represented by M.\n",
    "\n"
   ]
  },
  {
   "cell_type": "markdown",
   "metadata": {},
   "source": [
    "### Formula \n",
    " $ \\frac {n+1} {2} $  if the n is odd  \n",
    "\n",
    " $ \\frac {n+1} {2} $ and $ \\frac {n} {2} $ "
   ]
  },
  {
   "cell_type": "markdown",
   "metadata": {},
   "source": [
    "### Example:\n",
    "- l = [1,3,3,6,7,8,9]\n",
    "- Median of l = 6"
   ]
  },
  {
   "cell_type": "markdown",
   "metadata": {},
   "source": [
    "### Code Implementation:"
   ]
  },
  {
   "cell_type": "code",
   "execution_count": 23,
   "metadata": {},
   "outputs": [
    {
     "name": "stdout",
     "output_type": "stream",
     "text": [
      "Median is: 3.5\n"
     ]
    }
   ],
   "source": [
    "n = len(df['No_of_Fly_Members'])\n",
    "df['No_of_Fly_Members'].sort_values()\n",
    "\n",
    "if n % 2 == 0:\n",
    "    a = df['No_of_Fly_Members'][n/2]\n",
    "    b = df['No_of_Fly_Members'][(n/2)-1]\n",
    "    median = (a + b)/2\n",
    "else:\n",
    "    median = df['No_of_Fly_Members'][n/2]\n",
    "print(\"Median is: \" + str(median))"
   ]
  },
  {
   "cell_type": "markdown",
   "metadata": {},
   "source": [
    "## Mode:"
   ]
  },
  {
   "cell_type": "markdown",
   "metadata": {},
   "source": [
    "\n",
    "It is the most frequently occured number in the data.\n"
   ]
  },
  {
   "cell_type": "markdown",
   "metadata": {},
   "source": [
    "### Code implementation"
   ]
  },
  {
   "cell_type": "code",
   "execution_count": 16,
   "metadata": {},
   "outputs": [
    {
     "name": "stdout",
     "output_type": "stream",
     "text": [
      "Mthly_HH_IncomeMode is 45000\n",
      "Mthly_HH_ExpenseMode is 25000\n",
      "No_of_Fly_MembersMode is 4\n",
      "Emi_or_Rent_AmtMode is 0\n",
      "Annual_HH_IncomeMode is 590400\n",
      "Highest_Qualified_MemberMode is Graduate\n",
      "No_of_Earning_MembersMode is 1\n"
     ]
    }
   ],
   "source": [
    "\n",
    "for col in df.columns:\n",
    "  n = 0\n",
    "  l1 = []\n",
    "  l = list(df[col].unique())\n",
    "  for i in l:\n",
    "      a = list(df[col]).count(i)\n",
    "      if a not in l1:\n",
    "          l1.append(a)\n",
    "      mode_value = sorted(l1,reverse = True)[0]\n",
    "  for i in l:\n",
    "      a = list(df[col]).count(i)\n",
    "      if(a == mode_value):\n",
    "          print(col + \"Mode is\", i)\n",
    "          break"
   ]
  },
  {
   "cell_type": "markdown",
   "metadata": {},
   "source": [
    "## Variance:"
   ]
  },
  {
   "cell_type": "markdown",
   "metadata": {},
   "source": [
    "\n",
    "It is a measure of spread between numbers in a dataset."
   ]
  },
  {
   "cell_type": "markdown",
   "metadata": {},
   "source": [
    "## Formula\n",
    "## $ \\frac {\\Sigma (x_{i} - \\mu)^2} {n-1} $"
   ]
  },
  {
   "cell_type": "code",
   "execution_count": 27,
   "metadata": {},
   "outputs": [
    {
     "name": "stdout",
     "output_type": "stream",
     "text": [
      "Variance is 2.302448979591837\n"
     ]
    }
   ],
   "source": [
    "sum = 0\n",
    "var = 0\n",
    "for i in range(len(df['No_of_Fly_Members'])):\n",
    "    sum =sum + df['No_of_Fly_Members'][i]\n",
    "n =len(df['No_of_Fly_Members'])\n",
    "mean = sum/n\n",
    "for i in range(len(df['No_of_Fly_Members'])):\n",
    "    var = var + (df['No_of_Fly_Members'][i] - mean)**2\n",
    "variance = var / (n-1)\n",
    "print(\"Variance is\",variance)"
   ]
  },
  {
   "cell_type": "markdown",
   "metadata": {},
   "source": [
    "## Standard Deviation:"
   ]
  },
  {
   "cell_type": "markdown",
   "metadata": {},
   "source": [
    "\n",
    "It is the average deviation from the mean and represented as $\\sigma^2$"
   ]
  },
  {
   "cell_type": "markdown",
   "metadata": {},
   "source": [
    "#### Formula"
   ]
  },
  {
   "cell_type": "markdown",
   "metadata": {},
   "source": [
    "### $ { \\sigma } = \\sqrt \\frac {(\\Sigma x_i - \\mu)^2} {n-1} $\n",
    "\n",
    "\n",
    "where\n",
    "$ \\sigma $ = standard deviation\n",
    "N = size of the data\n",
    "$ x_i $ = each value from the data\n",
    "$ \\mu $ = mean"
   ]
  },
  {
   "cell_type": "markdown",
   "metadata": {},
   "source": [
    "### Code implementation"
   ]
  },
  {
   "cell_type": "code",
   "execution_count": 32,
   "metadata": {
    "scrolled": true
   },
   "outputs": [
    {
     "name": "stdout",
     "output_type": "stream",
     "text": [
      "Standard Deviation is 0.03959183673469389\n"
     ]
    }
   ],
   "source": [
    "sum = 0\n",
    "var = 0\n",
    "for i in range(len(df['No_of_Fly_Members'])):\n",
    "    sum =sum + df['No_of_Fly_Members'][i]\n",
    "n =len(df['No_of_Fly_Members'])\n",
    "mean = sum/n\n",
    "for i in range(len(df['No_of_Fly_Members'])):\n",
    "    std = math.sqrt(var + (df['No_of_Fly_Members'][i] - mean)**2)\n",
    "std = std / (n-1)\n",
    "print(\"Standard Deviation is\",std)"
   ]
  },
  {
   "cell_type": "markdown",
   "metadata": {},
   "source": [
    "# Correlation:"
   ]
  },
  {
   "cell_type": "markdown",
   "metadata": {},
   "source": [
    "\n",
    "It refers to the extent to which two variables have a linear relationship with each other. It is a statistical technique that can show how strongly variables are related. It is a scaled version of co-variance and values ranges from -1 to +1.\n"
   ]
  },
  {
   "cell_type": "markdown",
   "metadata": {},
   "source": [
    "#### Variables within a dataset can be related for lots of reasons\n",
    "- One variable could cause or depend on the values of another variable.\n",
    "- One variable could be lightly associated with another variable.\n",
    "- Two variables could depend on a third unknown variable.\n"
   ]
  },
  {
   "cell_type": "markdown",
   "metadata": {},
   "source": [
    "## Formula:"
   ]
  },
  {
   "cell_type": "markdown",
   "metadata": {},
   "source": [
    "### $ r_{xy} = \\frac {\\Sigma(x_i - \\mu _x)(y_i - \\mu _y)} {\\sqrt{\\Sigma (x_i - \\mu _x)^2 \\Sigma(y_i - \\mu _y)^2}} $"
   ]
  },
  {
   "cell_type": "code",
   "execution_count": 19,
   "metadata": {},
   "outputs": [
    {
     "name": "stdout",
     "output_type": "stream",
     "text": [
      "0.6492152549316461\n"
     ]
    }
   ],
   "source": [
    "X = df['Mthly_HH_Income']\n",
    "Y = df['Mthly_HH_Expense']\n",
    "\n",
    "# Mean of two columns\n",
    "mean_X = X.mean()\n",
    "mean_Y = Y.mean()\n",
    "\n",
    "# Numerator\n",
    "num = 0\n",
    "for i in range(len(X)):\n",
    "   num = num + (X[i]-mean_X)*(Y[i]-mean_Y)\n",
    "\n",
    "# Denominator\n",
    "d_x = 0\n",
    "for i in range(len(X)):\n",
    "   d_x = d_x + (X[i]-mean_X)**2\n",
    "   \n",
    "d_y = 0\n",
    "for i in range(len(Y)):\n",
    "   d_y = d_y + (Y[i]-mean_Y)**2\n",
    "   \n",
    "d = math.sqrt(d_x * d_y)\n",
    "\n",
    "# Correlation\n",
    "corr = num/d\n",
    "print(corr)"
   ]
  },
  {
   "cell_type": "markdown",
   "metadata": {},
   "source": [
    "## Normal Distribution:"
   ]
  },
  {
   "cell_type": "markdown",
   "metadata": {},
   "source": [
    "\n",
    "\n",
    "\n",
    "It is a continuous probability distribution that is described by the probability density function(pdf). The PDF describes the    probability of a certain value of the experiment falling into a particular range of values. It includes a normalizing constant that ensures  the area under the curve is equal to one (the sum of all event probabilities must equal one). The total area under the curve is divided in ½ around the mean."
   ]
  },
  {
   "cell_type": "markdown",
   "metadata": {},
   "source": [
    "\n",
    "[![Alt Text](https://sphweb.bumc.bu.edu/otlt/MPH-Modules/PH717-QuantCore/PH717-Module6-RandomError/Normal%20Distribution%20deviations.png) \" Normal Distribution(Bell Curve) \"](https://sphweb.bumc.bu.edu/otlt/MPH-Modules/PH717-QuantCore/PH717-Module6-RandomError/Normal%20Distribution%20deviations.pnghttps://www.google.com/url?sa=i&url=https%3A%2F%2Fsphweb.bumc.bu.edu%2Fotlt%2FMPH-Modules%2FPH717-QuantCore%2FPH717-Module6-RandomError%2FPH717-Module6-RandomError5.html&psig=AOvVaw3ax0-yh62GCs-wWJdjAIAJ&ust=1612343784488000&source=images&cd=vfe&ved=0CAIQjRxqFwoTCLDL1u_uyu4CFQAAAAAdAAAAABAX) "
   ]
  },
  {
   "cell_type": "markdown",
   "metadata": {},
   "source": [
    "### Formula"
   ]
  },
  {
   "cell_type": "markdown",
   "metadata": {},
   "source": [
    "\n",
    " $ f(x) = \\frac {1}{\\sigma \\sqrt {2 \\pi}} e^\\frac {-(x -\\mu)^2}{2 \\sigma^2} $"
   ]
  },
  {
   "cell_type": "markdown",
   "metadata": {},
   "source": [
    "### Features of a normal distribution\n",
    "- It is symmetric\n",
    "\n",
    "- The mean median and mode are equal\n",
    "\n",
    "- Emphirical rule\n",
    "\n",
    "  68.25% of all cases fall within +/-  $ 1\\sigma $ from the mean\n",
    "  \n",
    "  95% of all cases fall within +/- $ 2 \\sigma $ from the mean\n",
    "  \n",
    "  99% of all cases fall within +/- $ 3 \\sigma $ from the mean\n",
    " \n",
    " \n",
    "- Skewness and Kurtosis - These are the coefficients that measure how different a distribution is from a normal distribution\n",
    "  \n",
    "  Skewness measures the symmetry of a normal distribution while kutosis measures the thickness of the tail ends relative to the tails of the normal distribution"
   ]
  },
  {
   "cell_type": "markdown",
   "metadata": {},
   "source": [
    "### Formula for skewness and kurtosis"
   ]
  },
  {
   "cell_type": "markdown",
   "metadata": {},
   "source": [
    "$ skew = \\frac {n} {(n-1)(n-2)} \\Sigma(\\frac{x_i - \\mu} {s})^{3} $"
   ]
  },
  {
   "cell_type": "markdown",
   "metadata": {},
   "source": [
    "### Effect on Mean, Median and Mode due to Skewness\n"
   ]
  },
  {
   "cell_type": "markdown",
   "metadata": {},
   "source": [
    "### Positively skewed distribution"
   ]
  },
  {
   "cell_type": "markdown",
   "metadata": {},
   "source": [
    "\n",
    "\n",
    "Positively Skewed Distribution is a type of distribution where the mean, median and mode of the distribution are positive rather than negative or zero i.e., data distribution occurs more on the one side of the scale with long tail on the right side.\n"
   ]
  },
  {
   "cell_type": "markdown",
   "metadata": {},
   "source": [
    " [![Alt Text](https://cdn.corporatefinanceinstitute.com/assets/Positively-Skewed-Distribution.png \"Positively Skewed Distribution\")](https://www.google.com/url?sa=i&url=https%3A%2F%2Fcorporatefinanceinstitute.com%2Fresources%2Fknowledge%2Fother%2Fpositively-skewed-distribution%2F&psig=AOvVaw3tm-j6M3hbWDdBQsNVvykN&ust=1612350526395000&source=images&cd=vfe&ved=0CAIQjRxqFwoTCMDBqvSHy-4CFQAAAAAdAAAAABAI)"
   ]
  },
  {
   "cell_type": "markdown",
   "metadata": {},
   "source": [
    "### Negatively Skewed Distribution"
   ]
  },
  {
   "cell_type": "markdown",
   "metadata": {},
   "source": [
    "\n",
    "\n",
    "Negatively skewed distribution refers to the distribution type where the more values are plotted on the right side of the graph, where the tail of the distribution is longer on the left side and the mean is lower than the median and mode which it might be zero or negative due to the nature of the data as negatively distributed."
   ]
  },
  {
   "cell_type": "markdown",
   "metadata": {},
   "source": [
    "[![Alt Text](https://cdn.corporatefinanceinstitute.com/assets/negatively-skewed-distribution-1024x530.png \"Negatively Skewed Distribution\")](https://www.google.com/url?sa=i&url=https%3A%2F%2Fcorporatefinanceinstitute.com%2Fresources%2Fknowledge%2Fother%2Fnegatively-skewed-distribution%2F&psig=AOvVaw2j5Cz4dS1rZCGWRKpMoXln&ust=1612351088512000&source=images&cd=vfe&ved=0CAIQjRxqFwoTCJDZm4CKy-4CFQAAAAAdAAAAABAD)"
   ]
  },
  {
   "cell_type": "markdown",
   "metadata": {},
   "source": [
    "### Code Implementation"
   ]
  },
  {
   "cell_type": "code",
   "execution_count": 4,
   "metadata": {},
   "outputs": [
    {
     "name": "stdout",
     "output_type": "stream",
     "text": [
      "0.0\n"
     ]
    }
   ],
   "source": [
    "x = df['Mthly_HH_Expense']\n",
    "m = x.mean()\n",
    "s = x.std()\n",
    "for i in range(len(x)):\n",
    "    a = math.exp(-((x[i] - m)**2 /2*(s)**2))\n",
    "    b = s* math.sqrt(2*3.14)\n",
    "\n",
    "normal = a/b\n",
    "print(normal)"
   ]
  },
  {
   "cell_type": "code",
   "execution_count": 11,
   "metadata": {},
   "outputs": [],
   "source": [
    "def normalization(a):\n",
    "    maximum = max(a)\n",
    "    minimum = min(a)\n",
    "    norm_list = []\n",
    "\n",
    "\n",
    "    for i in range(len(a)):\n",
    "\n",
    "        value = (a[i]-minimum)/(maximum - minimum)\n",
    "\n",
    "        norm_list.append(value)\n",
    "\n",
    "    print (norm_list)"
   ]
  },
  {
   "cell_type": "code",
   "execution_count": 12,
   "metadata": {},
   "outputs": [
    {
     "name": "stdout",
     "output_type": "stream",
     "text": [
      "[0.125, 0.10416666666666667, 0.052083333333333336, 0.0, 0.20833333333333334, 0.125, 0.2916666666666667, 0.375, 0.14583333333333334, 0.14583333333333334, 0.3333333333333333, 0.4791666666666667, 0.0625, 0.17708333333333334, 0.16666666666666666, 0.21458333333333332, 0.375, 0.16666666666666666, 0.09583333333333334, 0.22916666666666666, 0.4791666666666667, 0.2708333333333333, 0.3541666666666667, 0.4791666666666667, 0.20833333333333334, 0.4791666666666667, 0.125, 0.16666666666666666, 0.2708333333333333, 0.20833333333333334, 0.4791666666666667, 0.7916666666666666, 0.16666666666666666, 0.4166666666666667, 0.4791666666666667, 0.2708333333333333, 0.375, 0.375, 0.8958333333333334, 0.16666666666666666, 1.0, 0.375, 0.14583333333333334, 0.375, 0.4791666666666667, 0.9583333333333334, 0.4791666666666667, 0.5833333333333334, 1.0, 0.7916666666666666]\n"
     ]
    }
   ],
   "source": [
    "normalization(df['Mthly_HH_Expense'])"
   ]
  },
  {
   "cell_type": "markdown",
   "metadata": {},
   "source": [
    "#### Skewness"
   ]
  },
  {
   "cell_type": "code",
   "execution_count": 23,
   "metadata": {},
   "outputs": [],
   "source": [
    "def median_fun(a):\n",
    "    k = len(df)/2\n",
    "    if (len(a)%2==0):\n",
    "        s_l=sorted(list(a),reverse=True)\n",
    "        m=(s_l[int(k)-1]+s_l[int(k)])/2\n",
    "        return (m)"
   ]
  },
  {
   "cell_type": "code",
   "execution_count": 24,
   "metadata": {},
   "outputs": [],
   "source": [
    "def mean_fun(a):\n",
    "    sum = 0\n",
    "    n = 0\n",
    "    for j in a:\n",
    "        sum = sum+j\n",
    "        n =n+1\n",
    "    return (sum/n)"
   ]
  },
  {
   "cell_type": "code",
   "execution_count": 25,
   "metadata": {},
   "outputs": [],
   "source": [
    "def std_fun(a):\n",
    "    sum = 0\n",
    "    b = mean_fun(a)\n",
    "    for j in a:\n",
    "        sum = sum + ((j-b)**2)\n",
    "    return (math.sqrt(sum/len(a)))"
   ]
  },
  {
   "cell_type": "code",
   "execution_count": 26,
   "metadata": {},
   "outputs": [],
   "source": [
    "def  skewness_fun(a):\n",
    "    a=((mean_fun(a)-median_fun(a)))/std_fun(a)\n",
    "    return a"
   ]
  },
  {
   "cell_type": "code",
   "execution_count": 27,
   "metadata": {},
   "outputs": [],
   "source": [
    "numeric_columns=[]\n",
    "for col in df.columns:\n",
    "    if (df[col].dtype !='O'):\n",
    "        numeric_columns.append(col)"
   ]
  },
  {
   "cell_type": "code",
   "execution_count": 28,
   "metadata": {},
   "outputs": [
    {
     "name": "stdout",
     "output_type": "stream",
     "text": [
      "Mthly_HH_Income  Skewness is  0.253835676742402\n",
      "Mthly_HH_Expense  Skewness is  0.2772229970354436\n",
      "No_of_Fly_Members  Skewness is  0.03994323218711281\n",
      "Emi_or_Rent_Amt  Skewness is  0.49524937972151156\n",
      "Annual_HH_Income  Skewness is  0.13441648734800632\n",
      "No_of_Earning_Members  Skewness is  0.6328145078635634\n"
     ]
    }
   ],
   "source": [
    "for i in numeric_columns:\n",
    "    print(i+\"  Skewness is \",skewness_fun(df[i]))"
   ]
  },
  {
   "cell_type": "code",
   "execution_count": 35,
   "metadata": {},
   "outputs": [
    {
     "data": {
      "text/plain": [
       "<matplotlib.axes._subplots.AxesSubplot at 0x2644363f488>"
      ]
     },
     "execution_count": 35,
     "metadata": {},
     "output_type": "execute_result"
    },
    {
     "data": {
      "image/png": "[encoded data removed]",
      "text/plain": [
       "<Figure size 432x288 with 1 Axes>"
      ]
     },
     "metadata": {
      "needs_background": "light"
     },
     "output_type": "display_data"
    }
   ],
   "source": [
    "sns.distplot(df['Annual_HH_Income']  )\n",
    "#Negatively skewed variable, may be having chance of outliers at the extreme right end"
   ]
  }
 ],
 "metadata": {
  "kernelspec": {
   "display_name": "Python 3",
   "language": "python",
   "name": "python3"
  },
  "language_info": {
   "codemirror_mode": {
    "name": "ipython",
    "version": 3
   },
   "file_extension": ".py",
   "mimetype": "text/x-python",
   "name": "python",
   "nbconvert_exporter": "python",
   "pygments_lexer": "ipython3",
   "version": "3.7.4"
  }
 },
 "nbformat": 4,
 "nbformat_minor": 2
}
